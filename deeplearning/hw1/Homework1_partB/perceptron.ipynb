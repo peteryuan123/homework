{
 "cells": [
  {
   "cell_type": "markdown",
   "metadata": {},
   "source": [
    "## Perceptron Learning Algorithm\n",
    "\n",
    "The perceptron is a simple supervised machine learning algorithm and one of the earliest neural network architectures. It was introduced by Rosenblatt in the late 1950s. A perceptron represents a binary linear classifier that maps a set of training examples (of $d$ dimensional input vectors) onto binary output values using a $d-1$ dimensional hyperplane. But Today, we will implement **Multi-Classes Perceptron Learning Algorithm** \n",
    "**Given:**\n",
    "* dataset $\\{(x^i, y^i)\\}$, $i \\in (1, M)$\n",
    "* $x^i$ is $d$ dimension vector, $x^i = (x^i_1, \\dots x^i_d)$\n",
    "* $y^i$ is multi-class target varible $y^i \\in \\{0,1,2\\}$\n",
    "\n",
    "A perceptron is trained using gradient descent. The training algorithm has different steps. In the beginning (step 0) the model parameters are initialized. The other steps (see below) are repeated for a specified number of training iterations or until the parameters have converged.\n",
    "\n",
    "**Step0:** Initial the weight vector and bias with zeros     \n",
    "**Step1:** Compute the linear combination of the input features and weight. $y^i_{pred} = \\arg\\max_k W_k*x^i + b$    \n",
    "**Step2:** Compute the gradients for parameters $W_k$, $b$. **Derive the parameter update equation Here (5 points)**   \n",
    "\n",
    "##################################     \n",
    "TODO: Derive you answer hear\n",
    "#################################\n",
    "\n",
    "Using svm loss function\n",
    "\n",
    "$L = \\sum_{i=1}^N max(0, W_i*x_i + b - W_{y_i}*x_i - b)$ = $\\sum_{i=1}^N max(0, W_i*x_i - W_{y_i}*x_i)$\n",
    "\n",
    "\n",
    "$$ \\frac{dL}{dW_i}=\\left\\{\n",
    "\\begin{aligned}\n",
    "0 &  & L \\leq 0~or~other\\\\\n",
    "x & & if~i~is~the~wrong~predicted~label \\\\\n",
    "-x & & if~i~is~the~right~label\n",
    "\\end{aligned}\n",
    "\\right.\n",
    "$$\n",
    "\n",
    "$$\\begin{aligned} \\frac{dL}{db} = 0\\end{aligned}  $$                "
   ]
  },
  {
   "cell_type": "code",
   "execution_count": 1,
   "metadata": {},
   "outputs": [],
   "source": [
    "from sklearn import datasets\n",
    "import numpy as np\n",
    "from sklearn.model_selection import train_test_split\n",
    "import matplotlib.pyplot as plt\n",
    "import random\n",
    "\n",
    "np.random.seed(0)\n",
    "random.seed(0)"
   ]
  },
  {
   "cell_type": "code",
   "execution_count": 2,
   "metadata": {},
   "outputs": [
    {
     "name": "stdout",
     "output_type": "stream",
     "text": [
      "<class 'numpy.ndarray'>\n",
      "X_Shape: (150, 4)\n",
      "y_Shape: (150,)\n",
      "Label Space: [0 1 2]\n"
     ]
    }
   ],
   "source": [
    "iris = datasets.load_iris()\n",
    "X = iris.data\n",
    "print(type(X))\n",
    "y = iris.target\n",
    "y = np.array(y)\n",
    "print('X_Shape:', X.shape)\n",
    "print('y_Shape:', y.shape)\n",
    "print('Label Space:', np.unique(y))\n"
   ]
  },
  {
   "cell_type": "code",
   "execution_count": 3,
   "metadata": {},
   "outputs": [
    {
     "name": "stdout",
     "output_type": "stream",
     "text": [
      "X_train_Shape: (105, 4)\n",
      "X_test_Shape: (45, 4)\n",
      "y_train_Shape: (105,)\n",
      "y_test_Shape: (45,)\n",
      "<class 'numpy.ndarray'>\n"
     ]
    }
   ],
   "source": [
    "## split the training set and test set\n",
    "X_train,X_test,y_train,y_test=train_test_split(X,y,test_size=0.3, random_state=0)\n",
    "print('X_train_Shape:', X_train.shape)\n",
    "print('X_test_Shape:',  X_test.shape)\n",
    "print('y_train_Shape:', y_train.shape)\n",
    "print('y_test_Shape:',  y_test.shape)\n",
    "print(type(y_train))\n",
    "\n"
   ]
  },
  {
   "cell_type": "code",
   "execution_count": 27,
   "metadata": {},
   "outputs": [],
   "source": [
    "class MultiClsPLA(object):\n",
    "    \n",
    "    ## We recommend to absorb the bias into weight.  W = [w, b]\n",
    "    \n",
    "    def __init__(self, X_train, y_train, X_test, y_test, lr, num_epoch, weight_dimension, num_cls):\n",
    "        super(MultiClsPLA, self).__init__()\n",
    "        self.X_train = X_train\n",
    "        self.y_train = y_train\n",
    "        self.X_test = X_test\n",
    "        self.y_test = y_test\n",
    "        self.weight = self.initial_weight(weight_dimension, num_cls)\n",
    "        self.sample_mean = np.mean(self.X_train, 0)\n",
    "        self.sample_std = np.std(self.X_train, 0)\n",
    "        self.num_epoch = num_epoch\n",
    "        self.lr = lr\n",
    "        self.total_acc_train = []\n",
    "        self.total_acc_tst = []\n",
    "          \n",
    "    def initial_weight(self, weight_dimension, num_cls):\n",
    "        #########################################\n",
    "        ##  ToDO: Initialize the weight with   ##\n",
    "        ##  small std and zero mean gaussian   ##\n",
    "        #########################################\n",
    "        weight = np.zeros((num_cls,weight_dimension + 1 ))\n",
    "        return weight\n",
    "        \n",
    "    def data_preprocessing(self, data):\n",
    "        #####################################\n",
    "        ##  ToDO: Normlize the data        ##\n",
    "        #####################################\n",
    "        norm_data = (data-self.sample_mean)/self.sample_std\n",
    "        return norm_data\n",
    "    \n",
    "    def train_step(self, X_train, y_train, shuffle_idx):\n",
    "        np.random.shuffle(shuffle_idx)\n",
    "        X_train = X_train[shuffle_idx]\n",
    "        y_train = y_train[shuffle_idx]\n",
    "        train_acc = 0\n",
    "\n",
    "        ##############################################\n",
    "        ## TODO: to implement the training process  ##\n",
    "        ## and update the weights                   ##\n",
    "        ##############################################\n",
    "        dw = np.zeros_like(self.weight)\n",
    "\n",
    "        for i in range(X_train.shape[0]):\n",
    "            scores = np.dot(self.weight, X_train[i].transpose())\n",
    "            predicted_label = np.argmax(scores)\n",
    "            if (predicted_label != y_train[i] ):\n",
    "                dw[predicted_label] += self.lr * X_train[i]\n",
    "                dw[y_train[i]] -= self.lr * X_train[i]\n",
    "            else:\n",
    "                train_acc += 1\n",
    "        self.weight -= dw\n",
    "        train_acc /= X_train.shape[0]\n",
    "        return train_acc\n",
    "        \n",
    "    def test_step(self, X_test, y_test):\n",
    "        \n",
    "        num_sample = X_test.shape[0]\n",
    "        test_acc = 0\n",
    "        \n",
    "        #########################################\n",
    "        ##  ToDO: Evaluate the test set and    ##\n",
    "        ##  return the test acc                ##\n",
    "        #########################################\n",
    "        for i in range(num_sample):\n",
    "            scores = np.dot(self.weight, X_test[i].transpose())\n",
    "            predicted_label = np.argmax(scores)\n",
    "            if (predicted_label == y_test[i]):\n",
    "                test_acc += 1\n",
    "\n",
    "        test_acc /= X_test.shape[0]\n",
    "        return test_acc\n",
    "        \n",
    "    def train(self):\n",
    "           \n",
    "        self.X_train = self.data_preprocessing(data=self.X_train)\n",
    "        self.X_test = self.data_preprocessing(data=self.X_test)\n",
    "\n",
    "        num_sample = self.X_train.shape[0]\n",
    "        \n",
    "        ######################################################\n",
    "        ### TODO: In order to absorb the bias into weights ###\n",
    "        ###  we need to modify the input data.             ###\n",
    "        ###  So You need to transform the input data       ###\n",
    "        ######################################################\n",
    "        self.X_train = np.concatenate((self.X_train, np.ones((self.X_train.shape[0],1))), axis=1)\n",
    "        self.X_test = np.concatenate((self.X_test, np.ones((self.X_test.shape[0],1))), axis=1)\n",
    "        \n",
    "        shuffle_index = np.array(range(0, num_sample))\n",
    "        for epoch in range(self.num_epoch):\n",
    "            training_acc = self.train_step(X_train=self.X_train, y_train=self.y_train, shuffle_idx=shuffle_index)\n",
    "            tst_acc = self.test_step(X_test=self.X_test,  y_test=self.y_test)\n",
    "            self.total_acc_train.append(training_acc)\n",
    "            self.total_acc_tst.append(tst_acc)\n",
    "            print('epoch:', epoch, 'traing_acc:%.3f'%training_acc, 'tst_acc:%.3f'%tst_acc)\n",
    "    \n",
    "    def vis_acc_curve(self):\n",
    "        train_acc = np.array(self.total_acc_train)\n",
    "        tst_acc = np.array(self.total_acc_tst)\n",
    "        plt.plot(train_acc)\n",
    "        plt.plot(tst_acc)\n",
    "        plt.legend(['train_acc', 'tst_acc'])\n",
    "        plt.show()"
   ]
  },
  {
   "cell_type": "code",
   "execution_count": 28,
   "metadata": {},
   "outputs": [
    {
     "name": "stdout",
     "output_type": "stream",
     "text": [
      "epoch: 0 traing_acc:0.324 tst_acc:0.711\n",
      "epoch: 1 traing_acc:0.819 tst_acc:0.889\n",
      "epoch: 2 traing_acc:0.857 tst_acc:0.956\n",
      "epoch: 3 traing_acc:0.914 tst_acc:0.911\n",
      "epoch: 4 traing_acc:0.905 tst_acc:0.711\n",
      "epoch: 5 traing_acc:0.848 tst_acc:0.867\n",
      "epoch: 6 traing_acc:0.819 tst_acc:0.622\n",
      "epoch: 7 traing_acc:0.762 tst_acc:0.956\n",
      "epoch: 8 traing_acc:0.933 tst_acc:0.978\n",
      "epoch: 9 traing_acc:0.971 tst_acc:0.978\n",
      "epoch: 10 traing_acc:0.962 tst_acc:0.978\n",
      "epoch: 11 traing_acc:0.971 tst_acc:0.978\n",
      "epoch: 12 traing_acc:0.990 tst_acc:0.978\n",
      "epoch: 13 traing_acc:0.952 tst_acc:0.933\n",
      "epoch: 14 traing_acc:0.952 tst_acc:0.978\n",
      "epoch: 15 traing_acc:0.962 tst_acc:0.956\n",
      "epoch: 16 traing_acc:0.990 tst_acc:0.978\n",
      "epoch: 17 traing_acc:0.981 tst_acc:0.978\n",
      "epoch: 18 traing_acc:0.990 tst_acc:0.978\n",
      "epoch: 19 traing_acc:0.962 tst_acc:0.933\n",
      "epoch: 20 traing_acc:0.943 tst_acc:0.978\n",
      "epoch: 21 traing_acc:0.962 tst_acc:0.978\n",
      "epoch: 22 traing_acc:0.990 tst_acc:0.978\n",
      "epoch: 23 traing_acc:0.981 tst_acc:0.978\n",
      "epoch: 24 traing_acc:0.971 tst_acc:0.978\n",
      "epoch: 25 traing_acc:0.990 tst_acc:0.978\n",
      "epoch: 26 traing_acc:0.981 tst_acc:0.978\n",
      "epoch: 27 traing_acc:0.962 tst_acc:0.956\n",
      "epoch: 28 traing_acc:0.981 tst_acc:0.978\n",
      "epoch: 29 traing_acc:0.971 tst_acc:0.978\n",
      "epoch: 30 traing_acc:0.990 tst_acc:0.978\n",
      "epoch: 31 traing_acc:0.962 tst_acc:0.933\n",
      "epoch: 32 traing_acc:0.971 tst_acc:0.978\n",
      "epoch: 33 traing_acc:0.962 tst_acc:0.933\n",
      "epoch: 34 traing_acc:0.943 tst_acc:0.978\n",
      "epoch: 35 traing_acc:0.962 tst_acc:0.978\n",
      "epoch: 36 traing_acc:0.990 tst_acc:0.978\n",
      "epoch: 37 traing_acc:0.981 tst_acc:0.978\n",
      "epoch: 38 traing_acc:0.962 tst_acc:0.978\n",
      "epoch: 39 traing_acc:0.981 tst_acc:0.978\n",
      "epoch: 40 traing_acc:0.981 tst_acc:0.978\n",
      "epoch: 41 traing_acc:0.962 tst_acc:0.956\n",
      "epoch: 42 traing_acc:0.981 tst_acc:0.978\n",
      "epoch: 43 traing_acc:0.962 tst_acc:0.956\n",
      "epoch: 44 traing_acc:0.981 tst_acc:0.978\n",
      "epoch: 45 traing_acc:0.971 tst_acc:0.978\n",
      "epoch: 46 traing_acc:0.990 tst_acc:0.978\n",
      "epoch: 47 traing_acc:0.962 tst_acc:0.956\n",
      "epoch: 48 traing_acc:0.981 tst_acc:0.978\n",
      "epoch: 49 traing_acc:0.962 tst_acc:0.933\n"
     ]
    },
    {
     "data": {
      "image/png": "[encoded data removed]",
      "text/plain": [
       "<Figure size 432x288 with 1 Axes>"
      ]
     },
     "metadata": {
      "needs_background": "light"
     },
     "output_type": "display_data"
    }
   ],
   "source": [
    "np.random.seed(0)\n",
    "random.seed(0)\n",
    "\n",
    "PLA = MultiClsPLA(X_train, y_train, X_test, y_test, 0.001, 50, 4, 3)\n",
    "\n",
    "PLA.train()\n",
    "PLA.vis_acc_curve()\n",
    "\n",
    "#######################################################\n",
    "### TODO: \n",
    "### 1. You need to import the model and pass some parameters. \n",
    "### 2. Then training the model with some epoches.\n",
    "### 3. Visualize the training acc and test acc verus epoches\n",
    "\n"
   ]
  },
  {
   "cell_type": "code",
   "execution_count": null,
   "metadata": {},
   "outputs": [],
   "source": []
  }
 ],
 "metadata": {
  "interpreter": {
   "hash": "0a4274a8b39dff31de8f5474480148ebf2445a96f943a86c0f47ac53eb81052a"
  },
  "kernelspec": {
   "display_name": "Python 3",
   "language": "python",
   "name": "python3"
  },
  "language_info": {
   "codemirror_mode": {
    "name": "ipython",
    "version": 3
   },
   "file_extension": ".py",
   "mimetype": "text/x-python",
   "name": "python",
   "nbconvert_exporter": "python",
   "pygments_lexer": "ipython3",
   "version": "3.7.10"
  },
  "pycharm": {
   "stem_cell": {
    "cell_type": "raw",
    "metadata": {
     "collapsed": false
    },
    "source": []
   }
  }
 },
 "nbformat": 4,
 "nbformat_minor": 2
}
